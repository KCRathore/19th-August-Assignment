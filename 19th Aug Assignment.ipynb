{
 "cells": [
  {
   "cell_type": "code",
   "execution_count": 6,
   "id": "263ebb87-3f79-4448-83a6-ccd008e80139",
   "metadata": {
    "tags": []
   },
   "outputs": [],
   "source": [
    "# Assignment 1\n",
    "X=10\n",
    "Y=20"
   ]
  },
  {
   "cell_type": "code",
   "execution_count": 7,
   "id": "d60584d2-3f30-431d-ae19-66a435223193",
   "metadata": {
    "tags": []
   },
   "outputs": [],
   "source": [
    "X=X+Y\n",
    "Y=X-Y\n",
    "X=X-Y"
   ]
  },
  {
   "cell_type": "code",
   "execution_count": 8,
   "id": "8b37c873-4571-4c87-b8c2-e43384db02be",
   "metadata": {
    "tags": []
   },
   "outputs": [
    {
     "name": "stdout",
     "output_type": "stream",
     "text": [
      "value of x:  20\n",
      "value of y:  10\n"
     ]
    }
   ],
   "source": [
    "print(\"value of x: \",X)\n",
    "print(\"value of y: \",Y)"
   ]
  },
  {
   "cell_type": "code",
   "execution_count": null,
   "id": "c10acd9e-72c0-472d-a998-d67730c3b0cf",
   "metadata": {},
   "outputs": [],
   "source": [
    "# ==================================================\n",
    "# Assignment 2"
   ]
  },
  {
   "cell_type": "code",
   "execution_count": 9,
   "id": "99cea53b-edec-4dad-8538-cde8c836abdc",
   "metadata": {
    "tags": []
   },
   "outputs": [
    {
     "name": "stdin",
     "output_type": "stream",
     "text": [
      "Please enter rectangle width 20.5\n"
     ]
    }
   ],
   "source": [
    "# taking width as an input from user\n",
    "width=float(input(\"Please enter rectangle width\"))"
   ]
  },
  {
   "cell_type": "code",
   "execution_count": 10,
   "id": "df23cda7-c5bf-4c81-86b5-ac3823dc81b7",
   "metadata": {
    "tags": []
   },
   "outputs": [
    {
     "name": "stdin",
     "output_type": "stream",
     "text": [
      "Please enter rectangle height 10.5\n"
     ]
    }
   ],
   "source": [
    "# taking height as an input from user\n",
    "height=float(input(\"Please enter rectangle height\"))"
   ]
  },
  {
   "cell_type": "code",
   "execution_count": 11,
   "id": "f002f5da-defb-4fe3-87e5-9fba71312194",
   "metadata": {
    "tags": []
   },
   "outputs": [],
   "source": [
    "# area of rectangle\n",
    "area = width * height"
   ]
  },
  {
   "cell_type": "code",
   "execution_count": 12,
   "id": "6884b4bc-58dd-4981-b47b-7a8dc48b205c",
   "metadata": {
    "tags": []
   },
   "outputs": [
    {
     "name": "stdout",
     "output_type": "stream",
     "text": [
      "Area of rectangle is :  215.25\n"
     ]
    }
   ],
   "source": [
    "# displaying result to user\n",
    "print(\"Area of rectangle is : \", area)"
   ]
  },
  {
   "cell_type": "code",
   "execution_count": 13,
   "id": "13573828-b36a-4cf4-b542-e5c44e96d4cc",
   "metadata": {
    "tags": []
   },
   "outputs": [],
   "source": [
    "# ==================================================\n",
    "# Assignment 3"
   ]
  },
  {
   "cell_type": "code",
   "execution_count": 14,
   "id": "1943866e-d802-4027-9b49-c970aa1c213a",
   "metadata": {
    "tags": []
   },
   "outputs": [
    {
     "name": "stdin",
     "output_type": "stream",
     "text": [
      "Please enter Celsius  36\n"
     ]
    }
   ],
   "source": [
    "# taking Celsius as input value from user\n",
    "Celsius=int(input(\"Please enter Celsius \"))"
   ]
  },
  {
   "cell_type": "code",
   "execution_count": 15,
   "id": "2bf70f32-69ed-4e46-b7d2-0cb619c6708e",
   "metadata": {
    "tags": []
   },
   "outputs": [],
   "source": [
    "# taking convert celsius to Fahrenheit(f).\n",
    "f=int((Celsius*9/5)+32)"
   ]
  },
  {
   "cell_type": "code",
   "execution_count": 17,
   "id": "a184c849-6b9f-4184-a85a-21abcfdf01b6",
   "metadata": {
    "tags": []
   },
   "outputs": [
    {
     "name": "stdout",
     "output_type": "stream",
     "text": [
      "converted celsius to fahrenheit:  96\n"
     ]
    }
   ],
   "source": [
    "print(\"converted celsius to fahrenheit: \",f)"
   ]
  },
  {
   "cell_type": "code",
   "execution_count": 18,
   "id": "27ade7f1-529f-451e-9ec2-fa7371958ddd",
   "metadata": {
    "tags": []
   },
   "outputs": [],
   "source": [
    "# ==================================================\n",
    "#TOPIC: String Based Questions\n",
    "# Assignment 1"
   ]
  },
  {
   "cell_type": "code",
   "execution_count": 19,
   "id": "6c35951b-987a-4739-82d3-bea6815b4f2f",
   "metadata": {
    "tags": []
   },
   "outputs": [
    {
     "name": "stdin",
     "output_type": "stream",
     "text": [
      " kush\n"
     ]
    }
   ],
   "source": [
    "x=input()"
   ]
  },
  {
   "cell_type": "code",
   "execution_count": 21,
   "id": "101d5298-7033-444c-ac5c-cc1d6c22eef2",
   "metadata": {
    "tags": []
   },
   "outputs": [
    {
     "name": "stdout",
     "output_type": "stream",
     "text": [
      "string length: 4\n"
     ]
    }
   ],
   "source": [
    "print(\"string length:\",len(x))"
   ]
  },
  {
   "cell_type": "code",
   "execution_count": 22,
   "id": "0917a830-4b71-4b64-a823-d2c0789c3315",
   "metadata": {
    "tags": []
   },
   "outputs": [],
   "source": [
    "# ==================================================\n",
    "#TOPIC: String Based Questions\n",
    "# Assignment 2"
   ]
  },
  {
   "cell_type": "code",
   "execution_count": 23,
   "id": "89b9c63a-5e5a-4988-8c5e-706d832df6a3",
   "metadata": {
    "tags": []
   },
   "outputs": [
    {
     "name": "stdin",
     "output_type": "stream",
     "text": [
      " a piece of long, strong material like very thin rope, that you use for tying things\n"
     ]
    }
   ],
   "source": [
    "count = 0\n",
    "user_input = input()"
   ]
  },
  {
   "cell_type": "code",
   "execution_count": 24,
   "id": "c164c445-c10e-4341-9a16-b8ea12a3aa74",
   "metadata": {
    "tags": []
   },
   "outputs": [],
   "source": [
    "for i in user_input:\n",
    "    #print(i)\n",
    "    if i == 'a' or i == 'e' or i == 'i' or i == 'o' or i == 'u' :\n",
    "        count = count + 1"
   ]
  },
  {
   "cell_type": "code",
   "execution_count": 25,
   "id": "59492b5c-ea53-4d56-8e22-8112a0f9ba56",
   "metadata": {
    "tags": []
   },
   "outputs": [
    {
     "name": "stdout",
     "output_type": "stream",
     "text": [
      "total vowels count in user input :  25\n"
     ]
    }
   ],
   "source": [
    "print(\"total vowels count in user input : \",count)"
   ]
  },
  {
   "cell_type": "code",
   "execution_count": 26,
   "id": "cdd952c8-7ef3-4f78-8515-7b6f623a89fa",
   "metadata": {
    "tags": []
   },
   "outputs": [],
   "source": [
    "# ==================================================\n",
    "#TOPIC: String Based Questions\n",
    "# Assignment 3"
   ]
  },
  {
   "cell_type": "code",
   "execution_count": 27,
   "id": "2ec547a2-fe48-4bcb-b360-a7f8658019e5",
   "metadata": {
    "tags": []
   },
   "outputs": [],
   "source": [
    "text = \"pwskills\""
   ]
  },
  {
   "cell_type": "code",
   "execution_count": 29,
   "id": "4536ef8e-e8e7-4d51-80bb-daf9e89ae834",
   "metadata": {
    "tags": []
   },
   "outputs": [
    {
     "name": "stdout",
     "output_type": "stream",
     "text": [
      "reverse order:  sllikswp\n"
     ]
    }
   ],
   "source": [
    "print(\"reverse order: \",text[::-1])"
   ]
  },
  {
   "cell_type": "code",
   "execution_count": 30,
   "id": "a18ff000-20f7-4ac6-b0d0-8f284acc5bb5",
   "metadata": {
    "tags": []
   },
   "outputs": [],
   "source": [
    "# ==================================================\n",
    "#TOPIC: String Based Questions\n",
    "# Assignment 4"
   ]
  },
  {
   "cell_type": "code",
   "execution_count": 44,
   "id": "4e296b25-b21d-4ef5-9784-bad564b029a3",
   "metadata": {
    "tags": []
   },
   "outputs": [
    {
     "name": "stdin",
     "output_type": "stream",
     "text": [
      " noon\n"
     ]
    }
   ],
   "source": [
    "new_user_input = input()"
   ]
  },
  {
   "cell_type": "code",
   "execution_count": 45,
   "id": "fa344592-6072-4391-ba0e-91f78d279624",
   "metadata": {
    "tags": []
   },
   "outputs": [],
   "source": [
    "x = len(new_user_input)/2\n",
    "result1 = new_user_input[:int(x):]\n",
    "result2 = new_user_input[:-int(x+1):-1]"
   ]
  },
  {
   "cell_type": "code",
   "execution_count": 46,
   "id": "7d829e22-f1c6-4872-9779-c3beb530234e",
   "metadata": {
    "tags": []
   },
   "outputs": [
    {
     "name": "stdout",
     "output_type": "stream",
     "text": [
      "yes it is a palindrome number\n"
     ]
    }
   ],
   "source": [
    "if result1.lower() == result2.lower():\n",
    "    print(\"yes it is a palindrome number\")\n",
    "else:\n",
    "    print(\"No, it is not a palindrome number\")"
   ]
  },
  {
   "cell_type": "code",
   "execution_count": 36,
   "id": "9cce86fe-2a77-42af-83da-a3cf58d82360",
   "metadata": {
    "tags": []
   },
   "outputs": [],
   "source": [
    "# ==================================================\n",
    "#TOPIC: String Based Questions\n",
    "# Assignment 5"
   ]
  },
  {
   "cell_type": "code",
   "execution_count": 51,
   "id": "66a1f118-fa9d-41e9-8d7f-b68589598daf",
   "metadata": {
    "tags": []
   },
   "outputs": [
    {
     "name": "stdin",
     "output_type": "stream",
     "text": [
      " hi   how are you\n"
     ]
    }
   ],
   "source": [
    "new_input2 = input()"
   ]
  },
  {
   "cell_type": "code",
   "execution_count": 52,
   "id": "6f1dcbaa-2117-456e-a3a0-40730fccb9dc",
   "metadata": {
    "tags": []
   },
   "outputs": [],
   "source": [
    "store_result = \"\"\n",
    "for i in new_input2:\n",
    "    if i != \" \":\n",
    "        store_result = store_result + i       "
   ]
  },
  {
   "cell_type": "code",
   "execution_count": 53,
   "id": "ac2643e8-398d-46ba-a659-ef9ffd5acf0a",
   "metadata": {
    "tags": []
   },
   "outputs": [
    {
     "name": "stdout",
     "output_type": "stream",
     "text": [
      "output without space: hihowareyou\n"
     ]
    }
   ],
   "source": [
    "print(\"output without space:\",store_result)"
   ]
  },
  {
   "cell_type": "code",
   "execution_count": null,
   "id": "c8a0e007-8623-4ed3-b232-114ff61cce6d",
   "metadata": {},
   "outputs": [],
   "source": []
  }
 ],
 "metadata": {
  "kernelspec": {
   "display_name": "Python 3 (ipykernel)",
   "language": "python",
   "name": "python3"
  },
  "language_info": {
   "codemirror_mode": {
    "name": "ipython",
    "version": 3
   },
   "file_extension": ".py",
   "mimetype": "text/x-python",
   "name": "python",
   "nbconvert_exporter": "python",
   "pygments_lexer": "ipython3",
   "version": "3.11.4"
  }
 },
 "nbformat": 4,
 "nbformat_minor": 5
}
